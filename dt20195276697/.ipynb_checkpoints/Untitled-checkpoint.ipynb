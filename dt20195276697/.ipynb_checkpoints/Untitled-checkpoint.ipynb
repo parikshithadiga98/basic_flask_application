{
 "cells": [
  {
   "cell_type": "code",
   "execution_count": 1,
   "metadata": {},
   "outputs": [],
   "source": [
    "from flask import Flask,render_template,redirect, url_for,request,flash,session\n",
    "import pandas as pd\n",
    "from csv import writer\n",
    "import pymysql"
   ]
  },
  {
   "cell_type": "code",
   "execution_count": 2,
   "metadata": {},
   "outputs": [],
   "source": [
    "app = Flask(__name__)\n",
    "app.config['SECRET_KEY'] = 'oh_so_secret'\n",
    "global uid\n",
    "uid=0\n",
    "db = pymysql.connect(\"localhost\",\"root\",\"\",\"vehicaldb\", autocommit=True )\n",
    "app = Flask(__name__\n",
    "app.config['SECRET_KEY'] = 'oh_so_secret'"
   ]
  },
  {
   "cell_type": "code",
   "execution_count": 3,
   "metadata": {},
   "outputs": [],
   "source": [
    "@app.route('/')\n",
    "def index():\n",
    "    return  render_template(\"index.html\")\n",
    "\n"
   ]
  },
  {
   "cell_type": "code",
   "execution_count": 4,
   "metadata": {},
   "outputs": [],
   "source": [
    "@app.route('/signup',methods=['POST','GET'])\n",
    "\n",
    "def signup():\n",
    "    \n",
    "     if request.method == 'POST':\n",
    "                global uid\n",
    "                name=request.form['uname']\n",
    "                number=request.form['contactnumber']\n",
    "                pas1=request.form['psw']\n",
    "                pas2=request.form['psw1']\n",
    "                print(uid)\n",
    "                if pas1==pas2:\n",
    "                    uid=uid+1\n",
    "                    listv=[uid,name,number,pas1]\n",
    "                    append_values(\"userdata.csv\",listv)\n",
    "                    return render_template(\"index.html\")\n",
    "                else:\n",
    "                    error=\"please type same password\"\n",
    "        \n",
    "                    return render_template(\"index.html\",er=error)\n",
    "        \n",
    "def append_values(filename, listofvalues):\n",
    "    with open(filename, 'a+', newline='') as write_obj:\n",
    "        csv_writer = writer(write_obj)\n",
    "        csv_writer.writerow(listofvalues)"
   ]
  },
  {
   "cell_type": "code",
   "execution_count": 5,
   "metadata": {},
   "outputs": [],
   "source": [
    "@app.route('/login',methods=['POST','GET'])\n",
    "def login():\n",
    "    error = None\n",
    "    \n",
    "    if request.method == 'POST':\n",
    "        username=request.form['uname']\n",
    "        psw=request.form['psw']\n",
    "        \n",
    "            \n",
    "        loginl=[]\n",
    "        with open('userdata.csv', 'r') as csvFile:\n",
    "            reader = csv.reader(csvFile)\n",
    "            for row in reader:\n",
    "                loginl.append(row)\n",
    "                \n",
    "                \n",
    "            \n",
    "     \n",
    "        try:\n",
    "            for i in range(0,len(loginl)):\n",
    "                print(loginl[i][1],i)\n",
    "                \n",
    "                    \n",
    "                if loginl[i][1]==username and loginl[i][3]==psw:\n",
    "                \n",
    "                    return redirect(url_for('dash'))\n",
    "        except:\n",
    "            error=\"invalid username and password\"\n",
    "            return render_template('index.html',er=error)\n",
    "    else:\n",
    "        error=\"invalid username and password\"\n",
    "        return render_template('index.html',er=error)\n",
    "    error=\"invalid username and password\"\n",
    "    return render_template('index.html',er=error)\n",
    "        \n",
    "            \n",
    "        \n",
    "                    \n",
    "                    \n",
    "        \n",
    "  \n",
    "            \n",
    "\n"
   ]
  },
  {
   "cell_type": "code",
   "execution_count": 6,
   "metadata": {},
   "outputs": [],
   "source": [
    "@app.route('/dash',methods=['POST','GET'])\n",
    "def dash():\n",
    "    return render_template(\"dash.html\")"
   ]
  },
  {
   "cell_type": "code",
   "execution_count": 7,
   "metadata": {},
   "outputs": [],
   "source": [
    "@app.route('/update',methods=['POST'])\n",
    "def update():\n",
    "    if request.method == 'POST':\n",
    "                name=request.form['vcn']\n",
    "                addr=request.form['vrn']\n",
    "                bg=request.form['in']\n",
    "                rnum=request.form['fir']\n",
    "                rname=request.form['rrn']\n",
    "                listv=[name,addr,bg,rnum,rname]\n",
    "                append_values(\"blooddata.csv\",listv)\n",
    "                \n",
    "def append_values(filename, listofvalues):\n",
    "    with open(filename, 'a+', newline='') as write_obj:\n",
    "        csv_writer = writer(write_obj)\n",
    "        csv_writer.writerow(listofvalues)            "
   ]
  },
  {
   "cell_type": "code",
   "execution_count": null,
   "metadata": {},
   "outputs": [
    {
     "name": "stdout",
     "output_type": "stream",
     "text": [
      " * Serving Flask app \"__main__\" (lazy loading)\n",
      " * Environment: production\n",
      "\u001b[31m   WARNING: This is a development server. Do not use it in a production deployment.\u001b[0m\n",
      "\u001b[2m   Use a production WSGI server instead.\u001b[0m\n",
      " * Debug mode: off\n"
     ]
    },
    {
     "name": "stderr",
     "output_type": "stream",
     "text": [
      " * Running on http://127.0.0.1:5000/ (Press CTRL+C to quit)\n"
     ]
    }
   ],
   "source": [
    "if __name__ == '__main__':\n",
    "    app.run()\n"
   ]
  },
  {
   "cell_type": "code",
   "execution_count": null,
   "metadata": {},
   "outputs": [],
   "source": []
  }
 ],
 "metadata": {
  "kernelspec": {
   "display_name": "Python 3",
   "language": "python",
   "name": "python3"
  },
  "language_info": {
   "codemirror_mode": {
    "name": "ipython",
    "version": 3
   },
   "file_extension": ".py",
   "mimetype": "text/x-python",
   "name": "python",
   "nbconvert_exporter": "python",
   "pygments_lexer": "ipython3",
   "version": "3.8.2"
  }
 },
 "nbformat": 4,
 "nbformat_minor": 4
}
